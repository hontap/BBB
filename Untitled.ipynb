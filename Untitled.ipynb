{
  "nbformat": 4,
  "nbformat_minor": 0,
  "metadata": {
    "colab": {
      "name": "Untitled",
      "version": "0.3.2",
      "provenance": [],
      "include_colab_link": true
    },
    "kernelspec": {
      "name": "python3",
      "display_name": "Python 3"
    }
  },
  "cells": [
    {
      "cell_type": "markdown",
      "metadata": {
        "id": "view-in-github",
        "colab_type": "text"
      },
      "source": [
        "<a href=\"https://colab.research.google.com/github/hontap/BBB/blob/master/Untitled.ipynb\" target=\"_parent\"><img src=\"https://colab.research.google.com/assets/colab-badge.svg\" alt=\"Open In Colab\"/></a>"
      ]
    },
    {
      "cell_type": "code",
      "metadata": {
        "id": "H9KAkIqKoPmv",
        "colab_type": "code",
        "outputId": "09d5b6dd-e913-4eb4-f8ea-1f7b1a218235",
        "colab": {
          "base_uri": "https://localhost:8080/",
          "height": 51
        }
      },
      "source": [
        "!pip install -q PyGitHub\n",
        "\n",
        "\n",
        "from github import Github, GithubException\n",
        "import nbformat\n",
        "\n",
        "access_token = 'xxxxx'\n",
        "\n",
        "repository_name = 'TestRepository' \n",
        "ipynb_file_name = 'test.ipynb'"
      ],
      "execution_count": 0,
      "outputs": [
        {
          "output_type": "stream",
          "text": [
            "\u001b[?25l\r\u001b[K     |███                             | 10kB 16.1MB/s eta 0:00:01\r\u001b[K     |██████                          | 20kB 3.3MB/s eta 0:00:01\r\u001b[K     |█████████▏                      | 30kB 4.8MB/s eta 0:00:01\r\u001b[K     |████████████▏                   | 40kB 3.0MB/s eta 0:00:01\r\u001b[K     |███████████████▏                | 51kB 3.7MB/s eta 0:00:01\r\u001b[K     |██████████████████▎             | 61kB 4.4MB/s eta 0:00:01\r\u001b[K     |█████████████████████▎          | 71kB 5.1MB/s eta 0:00:01\r\u001b[K     |████████████████████████▎       | 81kB 5.7MB/s eta 0:00:01\r\u001b[K     |███████████████████████████▍    | 92kB 6.3MB/s eta 0:00:01\r\u001b[K     |██████████████████████████████▍ | 102kB 4.9MB/s eta 0:00:01\r\u001b[K     |████████████████████████████████| 112kB 4.9MB/s \n",
            "\u001b[?25h  Building wheel for PyGitHub (setup.py) ... \u001b[?25l\u001b[?25hdone\n"
          ],
          "name": "stdout"
        }
      ]
    },
    {
      "cell_type": "code",
      "metadata": {
        "id": "0fA80qLXrtiy",
        "colab_type": "code",
        "colab": {}
      },
      "source": [
        "github = Github(access_token)\n",
        "user = github.get_user()\n",
        "\n",
        "try:\n",
        "  user.create_repo(repository_name)\n",
        "except GithubException:\n",
        "  print(f'{repository_name} already exists on this account.')\n",
        "  "
      ],
      "execution_count": 0,
      "outputs": []
    },
    {
      "cell_type": "code",
      "metadata": {
        "id": "WZce9ewDs_s3",
        "colab_type": "code",
        "colab": {}
      },
      "source": [
        "nb = nbformat.v4.new_notebook()\n",
        "\n",
        "title = '# setting'\n",
        "code = \"\"\"\n",
        "%matplotlib inline\n",
        "import matplotlib.pyplot as plt\n",
        "import numpy as np\n",
        "import pandas as pd\n",
        "\"\"\"\n",
        "\n",
        "nb[\"cells\"] = [\n",
        "    nbformat.v4.new_markdown_cell(title),\n",
        "    nbformat.v4.new_code_cell(code)\n",
        "]\n"
      ],
      "execution_count": 0,
      "outputs": []
    },
    {
      "cell_type": "code",
      "metadata": {
        "id": "jWcsUFDQtSyx",
        "colab_type": "code",
        "colab": {}
      },
      "source": [
        ""
      ],
      "execution_count": 0,
      "outputs": []
    }
  ]
}